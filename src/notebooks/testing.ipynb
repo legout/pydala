{
 "cells": [
  {
   "cell_type": "code",
   "execution_count": 1,
   "metadata": {},
   "outputs": [],
   "source": [
    "from pydala.dataset import Reader\n",
    "from pydala.filesystem import FileSystem\n"
   ]
  },
  {
   "cell_type": "code",
   "execution_count": 2,
   "metadata": {},
   "outputs": [],
   "source": [
    "fs1 = FileSystem(\n",
    "    access_key=\"volker\",\n",
    "    secret_key=\"s78anwg9\",\n",
    "    endpoint_url=\"http://192.168.2.162:9000\",\n",
    "    aws_profile=\"minio\",\n",
    ")\n"
   ]
  },
  {
   "cell_type": "code",
   "execution_count": 9,
   "metadata": {},
   "outputs": [
    {
     "name": "stdout",
     "output_type": "stream",
     "text": [
      "\u001b[0;31mSignature:\u001b[0m \u001b[0mfs1\u001b[0m\u001b[0;34m.\u001b[0m\u001b[0m_filesystem\u001b[0m\u001b[0;34m.\u001b[0m\u001b[0mrename\u001b[0m\u001b[0;34m(\u001b[0m\u001b[0mpath1\u001b[0m\u001b[0;34m,\u001b[0m \u001b[0mpath2\u001b[0m\u001b[0;34m,\u001b[0m \u001b[0;34m**\u001b[0m\u001b[0mkwargs\u001b[0m\u001b[0;34m)\u001b[0m\u001b[0;34m\u001b[0m\u001b[0;34m\u001b[0m\u001b[0m\n",
      "\u001b[0;31mDocstring:\u001b[0m Alias of `AbstractFileSystem.mv`.\n",
      "\u001b[0;31mFile:\u001b[0m      ~/mambaforge/envs/main/lib/python3.10/site-packages/fsspec/spec.py\n",
      "\u001b[0;31mType:\u001b[0m      method\n"
     ]
    }
   ],
   "source": [
    "fs1._filesystem.rename?"
   ]
  },
  {
   "cell_type": "code",
   "execution_count": 1,
   "metadata": {},
   "outputs": [],
   "source": [
    "import pfsyarrow.fs as pafs\n"
   ]
  },
  {
   "cell_type": "code",
   "execution_count": 1,
   "metadata": {},
   "outputs": [],
   "source": [
    "from pydala.dataset import Reader\n",
    "\n",
    "from pydala.filesystem import FileSystem\n",
    "\n",
    "fs = FileSystem(\n",
    "    access_key=\"volker\",\n",
    "    secret_key=\"s78anwg9\",\n",
    "    aws_profile=\"minio\",\n",
    "    endpoint_url=\"http://192.168.2.162:9000\",\n",
    ")\n",
    "#fs.s5ls(\"findata/yahoo/\", only_objects=False)\n"
   ]
  },
  {
   "cell_type": "code",
   "execution_count": 13,
   "metadata": {},
   "outputs": [],
   "source": [
    "reader = Reader(\n",
    "    \"yahoo/symbols\",\n",
    "    bucket=\"findata\",\n",
    "    filesystem=fs,\n",
    "    distinct=True,\n",
    "    name=\"symbols\",\n",
    "    format=\"feather\",\n",
    "    sort_by=[\"exchange\", \"type\", \"symbol\"],\n",
    "    drop=None\n",
    ")\n"
   ]
  },
  {
   "cell_type": "code",
   "execution_count": 12,
   "metadata": {},
   "outputs": [
    {
     "ename": "TypeError",
     "evalue": "dataset() got an unexpected keyword argument 'drop'",
     "output_type": "error",
     "traceback": [
      "\u001b[0;31m---------------------------------------------------------------------------\u001b[0m",
      "\u001b[0;31mTypeError\u001b[0m                                 Traceback (most recent call last)",
      "Cell \u001b[0;32mIn [12], line 2\u001b[0m\n\u001b[1;32m      1\u001b[0m \u001b[39mimport\u001b[39;00m \u001b[39mpyarrow\u001b[39;00m\u001b[39m.\u001b[39;00m\u001b[39mdataset\u001b[39;00m \u001b[39mas\u001b[39;00m \u001b[39mds\u001b[39;00m\n\u001b[0;32m----> 2\u001b[0m dataset \u001b[39m=\u001b[39m ds\u001b[39m.\u001b[39;49mdataset(\u001b[39m\"\u001b[39;49m\u001b[39mfindata/yahoo/symbols\u001b[39;49m\u001b[39m\"\u001b[39;49m, filesystem\u001b[39m=\u001b[39;49mfs\u001b[39m.\u001b[39;49m_filesystem, \u001b[39mformat\u001b[39;49m\u001b[39m=\u001b[39;49m\u001b[39m\"\u001b[39;49m\u001b[39mfeather\u001b[39;49m\u001b[39m\"\u001b[39;49m, drop\u001b[39m=\u001b[39;49m\u001b[39mNone\u001b[39;49;00m)\n",
      "\u001b[0;31mTypeError\u001b[0m: dataset() got an unexpected keyword argument 'drop'"
     ]
    }
   ],
   "source": [
    "import pyarrow.dataset as ds\n",
    "dataset = ds.dataset(\"findata/yahoo/symbols\", filesystem=fs._filesystem, format=\"feather\", drop=None)"
   ]
  },
  {
   "cell_type": "code",
   "execution_count": 14,
   "metadata": {},
   "outputs": [],
   "source": [
    "reader.load_mem_table()"
   ]
  },
  {
   "cell_type": "code",
   "execution_count": 18,
   "metadata": {},
   "outputs": [
    {
     "data": {
      "text/plain": [
       "['symbol', 'name', 'exchange', 'type', 'industry', 'valid']"
      ]
     },
     "execution_count": 18,
     "metadata": {},
     "output_type": "execute_result"
    }
   ],
   "source": [
    "reader.mem_table.column_names"
   ]
  },
  {
   "cell_type": "code",
   "execution_count": 24,
   "metadata": {},
   "outputs": [
    {
     "data": {
      "text/html": [
       "<div>\n",
       "<style scoped>\n",
       "    .dataframe tbody tr th:only-of-type {\n",
       "        vertical-align: middle;\n",
       "    }\n",
       "\n",
       "    .dataframe tbody tr th {\n",
       "        vertical-align: top;\n",
       "    }\n",
       "\n",
       "    .dataframe thead th {\n",
       "        text-align: right;\n",
       "    }\n",
       "</style>\n",
       "<table border=\"1\" class=\"dataframe\">\n",
       "  <thead>\n",
       "    <tr style=\"text-align: right;\">\n",
       "      <th></th>\n",
       "      <th>symbol</th>\n",
       "      <th>name</th>\n",
       "      <th>exchange</th>\n",
       "      <th>type</th>\n",
       "      <th>industry</th>\n",
       "      <th>valid</th>\n",
       "    </tr>\n",
       "  </thead>\n",
       "  <tbody>\n",
       "    <tr>\n",
       "      <th>0</th>\n",
       "      <td>A</td>\n",
       "      <td>Agilent Technologies, Inc.</td>\n",
       "      <td>NYQ</td>\n",
       "      <td>equity</td>\n",
       "      <td>Healthcare</td>\n",
       "      <td>True</td>\n",
       "    </tr>\n",
       "    <tr>\n",
       "      <th>1</th>\n",
       "      <td>AA</td>\n",
       "      <td>Alcoa Corporation</td>\n",
       "      <td>NYQ</td>\n",
       "      <td>equity</td>\n",
       "      <td>Basic Materials</td>\n",
       "      <td>True</td>\n",
       "    </tr>\n",
       "    <tr>\n",
       "      <th>2</th>\n",
       "      <td>AAA</td>\n",
       "      <td>NaN</td>\n",
       "      <td>NYQ</td>\n",
       "      <td>equity</td>\n",
       "      <td>NaN</td>\n",
       "      <td>True</td>\n",
       "    </tr>\n",
       "    <tr>\n",
       "      <th>3</th>\n",
       "      <td>AAC</td>\n",
       "      <td>Ares Acquisition Corporation</td>\n",
       "      <td>NYQ</td>\n",
       "      <td>equity</td>\n",
       "      <td>Financial Services</td>\n",
       "      <td>True</td>\n",
       "    </tr>\n",
       "    <tr>\n",
       "      <th>4</th>\n",
       "      <td>AAC-UN</td>\n",
       "      <td>Ares Acquisition Corporation</td>\n",
       "      <td>NYQ</td>\n",
       "      <td>equity</td>\n",
       "      <td>Financial Services</td>\n",
       "      <td>True</td>\n",
       "    </tr>\n",
       "    <tr>\n",
       "      <th>...</th>\n",
       "      <td>...</td>\n",
       "      <td>...</td>\n",
       "      <td>...</td>\n",
       "      <td>...</td>\n",
       "      <td>...</td>\n",
       "      <td>...</td>\n",
       "    </tr>\n",
       "    <tr>\n",
       "      <th>4489</th>\n",
       "      <td>ZVV</td>\n",
       "      <td>NaN</td>\n",
       "      <td>NYQ</td>\n",
       "      <td>equity</td>\n",
       "      <td>NaN</td>\n",
       "      <td>True</td>\n",
       "    </tr>\n",
       "    <tr>\n",
       "      <th>4490</th>\n",
       "      <td>ZWS</td>\n",
       "      <td>Zurn Elkay Water Solutions Corp</td>\n",
       "      <td>NYQ</td>\n",
       "      <td>equity</td>\n",
       "      <td>Industrials</td>\n",
       "      <td>True</td>\n",
       "    </tr>\n",
       "    <tr>\n",
       "      <th>4491</th>\n",
       "      <td>ZX</td>\n",
       "      <td>NaN</td>\n",
       "      <td>NYQ</td>\n",
       "      <td>equity</td>\n",
       "      <td>NaN</td>\n",
       "      <td>True</td>\n",
       "    </tr>\n",
       "    <tr>\n",
       "      <th>4492</th>\n",
       "      <td>ZYME</td>\n",
       "      <td>Zymeworks Inc.</td>\n",
       "      <td>NYQ</td>\n",
       "      <td>equity</td>\n",
       "      <td>Healthcare</td>\n",
       "      <td>True</td>\n",
       "    </tr>\n",
       "    <tr>\n",
       "      <th>4493</th>\n",
       "      <td>ZZZ</td>\n",
       "      <td>NaN</td>\n",
       "      <td>NYQ</td>\n",
       "      <td>equity</td>\n",
       "      <td>NaN</td>\n",
       "      <td>True</td>\n",
       "    </tr>\n",
       "  </tbody>\n",
       "</table>\n",
       "<p>4494 rows × 6 columns</p>\n",
       "</div>"
      ],
      "text/plain": [
       "      symbol                             name exchange    type  \\\n",
       "0          A       Agilent Technologies, Inc.      NYQ  equity   \n",
       "1         AA                Alcoa Corporation      NYQ  equity   \n",
       "2        AAA                              NaN      NYQ  equity   \n",
       "3        AAC     Ares Acquisition Corporation      NYQ  equity   \n",
       "4     AAC-UN     Ares Acquisition Corporation      NYQ  equity   \n",
       "...      ...                              ...      ...     ...   \n",
       "4489     ZVV                              NaN      NYQ  equity   \n",
       "4490     ZWS  Zurn Elkay Water Solutions Corp      NYQ  equity   \n",
       "4491      ZX                              NaN      NYQ  equity   \n",
       "4492    ZYME                   Zymeworks Inc.      NYQ  equity   \n",
       "4493     ZZZ                              NaN      NYQ  equity   \n",
       "\n",
       "                industry  valid  \n",
       "0             Healthcare   True  \n",
       "1        Basic Materials   True  \n",
       "2                    NaN   True  \n",
       "3     Financial Services   True  \n",
       "4     Financial Services   True  \n",
       "...                  ...    ...  \n",
       "4489                 NaN   True  \n",
       "4490         Industrials   True  \n",
       "4491                 NaN   True  \n",
       "4492          Healthcare   True  \n",
       "4493                 NaN   True  \n",
       "\n",
       "[4494 rows x 6 columns]"
      ]
     },
     "execution_count": 24,
     "metadata": {},
     "output_type": "execute_result"
    }
   ],
   "source": []
  },
  {
   "cell_type": "code",
   "execution_count": null,
   "metadata": {},
   "outputs": [],
   "source": []
  }
 ],
 "metadata": {
  "kernelspec": {
   "display_name": "main",
   "language": "python",
   "name": "python3"
  },
  "language_info": {
   "codemirror_mode": {
    "name": "ipython",
    "version": 3
   },
   "file_extension": ".py",
   "mimetype": "text/x-python",
   "name": "python",
   "nbconvert_exporter": "python",
   "pygments_lexer": "ipython3",
   "version": "3.10.6 | packaged by conda-forge | (main, Aug 22 2022, 20:35:26) [GCC 10.4.0]"
  },
  "orig_nbformat": 4,
  "vscode": {
   "interpreter": {
    "hash": "3b94fc174663f915eba4b8036d099da7af1b981072731248f5049e48fcd46b12"
   }
  }
 },
 "nbformat": 4,
 "nbformat_minor": 2
}
